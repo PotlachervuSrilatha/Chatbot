{
  "nbformat": 4,
  "nbformat_minor": 0,
  "metadata": {
    "colab": {
      "provenance": [],
      "authorship_tag": "ABX9TyOO60iBtR0ROVdTAEmEXNS5",
      "include_colab_link": true
    },
    "kernelspec": {
      "name": "python3",
      "display_name": "Python 3"
    },
    "language_info": {
      "name": "python"
    }
  },
  "cells": [
    {
      "cell_type": "markdown",
      "metadata": {
        "id": "view-in-github",
        "colab_type": "text"
      },
      "source": [
        "<a href=\"https://colab.research.google.com/github/PotlachervuSrilatha/Chatbot/blob/main/Untitled18.ipynb\" target=\"_parent\"><img src=\"https://colab.research.google.com/assets/colab-badge.svg\" alt=\"Open In Colab\"/></a>"
      ]
    },
    {
      "cell_type": "code",
      "execution_count": 1,
      "metadata": {
        "id": "TRN1Nh02ZrhN"
      },
      "outputs": [],
      "source": [
        "import requests\n",
        "from bs4 import BeautifulSoup\n",
        "import pandas as pd\n",
        "\n",
        "# Replace this URL with the actual website you want to scrape\n",
        "url = 'https://www.edusys.co/Blog/intermediate-jr-colleges-hyderabad'\n",
        "\n",
        "# Send a GET request to the URL\n",
        "response = requests.get(url)\n",
        "\n",
        "# Check if the request was successful (status code 200)\n",
        "if response.status_code == 200:\n",
        "    # Parse the HTML content of the page\n",
        "    soup = BeautifulSoup(response.text, 'html.parser')\n",
        "\n",
        "    # Find the relevant elements on the page and extract data\n",
        "    # Replace these lines with the actual HTML elements of the page you want to scrape\n",
        "    names = [element.text for element in soup.find_all('h3', class_='bolg_heading')]\n",
        "    locations = [element.text for element in soup.find_all('p', class_='bolg_heading')]\n",
        "    contact_numbers = [element.text for element in soup.find_all('span', class_='col-md-3 col-sm-4 col-xs-12')]\n",
        "    website_urls = [element['href'] for element in soup.find_all('a', class_='college-link')]\n",
        "\n",
        "    data = {\n",
        "        'College Name': names,\n",
        "        'Location': locations,\n",
        "        'Contact Number': contact_numbers,\n",
        "        'College Website URL': website_urls\n",
        "    }\n",
        "\n"
      ]
    },
    {
      "cell_type": "code",
      "source": [
        "\n",
        "    df = pd.DataFrame(data)\n",
        "\n",
        "    # Display the DataFrame or save it to an Excel file\n",
        "    print(df.head(50))  # Display the top 50 colleges\n",
        "    df.head(50).to_excel('top_junior_colleges_in_india.xlsx', index=False)\n",
        "\n",
        "else:\n",
        "    print(f'Error: {response.status_code}')"
      ],
      "metadata": {
        "colab": {
          "base_uri": "https://localhost:8080/",
          "height": 143
        },
        "id": "OLVuEMF594Et",
        "outputId": "3a46c328-37b5-4c0c-dec9-b6e69f21d50c"
      },
      "execution_count": 7,
      "outputs": [
        {
          "output_type": "error",
          "ename": "SyntaxError",
          "evalue": "ignored",
          "traceback": [
            "\u001b[0;36m  File \u001b[0;32m\"<ipython-input-7-56693c51c6e4>\"\u001b[0;36m, line \u001b[0;32m7\u001b[0m\n\u001b[0;31m    else:\u001b[0m\n\u001b[0m    ^\u001b[0m\n\u001b[0;31mSyntaxError\u001b[0m\u001b[0;31m:\u001b[0m invalid syntax\n"
          ]
        }
      ]
    },
    {
      "cell_type": "code",
      "source": [],
      "metadata": {
        "id": "CjZmpXgWao2C"
      },
      "execution_count": null,
      "outputs": []
    },
    {
      "cell_type": "code",
      "source": [
        "import pandas as pd\n",
        "data =data = [\n",
        "    {\"Name\": \"Delhi Public School (DPS)\", \"Location\": \"Various cities across India\",\"Contact_Number\":040 2773 7295,\"Website\": \"https://www.dpsfamily.org/\"},\n",
        "    {\"Name\": \"St. Xavier's College\", \"Location\": \"Mumbai, Maharashtra\",\"Contact_Number\":022 2262 0662, \"Website\": \"https://xaviers.edu/main/\"},\n",
        "    {\"Name\": \"Loyola College\", \"Location\": \"Chennai, Tamil Nadu\",\"Contact_Number\":044 2817 8200, \"Website\": \"https://www.loyolacollege.edu/\"},\n",
        "    {\"Name\": \"Christ University\", \"Location\": \"Bangalore, Karnataka\",\"Contact_Number\":080 4012 9100, \"Website\": \"https://christuniversity.in/\"},\n",
        "    {\"Name\": \"Presidency College\", \"Location\": \"Kolkata, West Bengal\",\"Contact_Number\":033 4052 9987, \"Website\": \"https://presiuniv.ac.in/web/\"},\n",
        "    {\"Name\": \"St. Stephen's College\", \"Location\": \"Delhi\",\"Contact_Number\":0542 236 9332, \"Website\": \"https://www.ststephens.edu/\"},\n",
        "    {\"Name\": \"IIT Bombay\", \"Location\": \"Mumbai, Maharashtra\",\"Contact_Number\":022 2572 2545, \"Website\": \"https://www.iitb.ac.in/\"},\n",
        "    {\"Name\": \"IIM Ahmedabad\", \"Location\": \"Ahmedabad, Gujarat\",\"Contact_Number\":079 6632 3456, \"Website\": \"https://www.iima.ac.in/\"},\n",
        "    {\"Name\": \"Banaras Hindu University (BHU)\", \"Location\": \"Varanasi, Uttar Pradesh\",\"Contact_Number\":+91-11-49115500, \"Website\": \"https://www.bhu.ac.in/\"},\n",
        "    {\"Name\": \"JNU\", \"Location\": \"Delhi\",\"Contact_Number\":011 2670 4090,\"Website\": \"https://www.jnu.ac.in/\"},\n",
        "    {\"Name\": \"Madras Christian College (MCC)\", \"Location\": \"Chennai, Tamil Nadu\",\"Contact_Number\":044 2239 0675, \"Website\": \"https://www.mcc.edu.in/\"},\n",
        "    {\"Name\": \"St. Joseph's College\", \"Location\": \"Bangalore, Karnataka\",\"Contact_Number\":080 2221 1429, \"Website\": \"https://sjc.ac.in/\"},\n",
        "    {\"Name\": \"Hindu College\", \"Location\": \"Delhi\",\"Contact_Number\": 011 2766 7184, \"Website\": \"https://www.hinducollege.ac.in/\"},\n",
        "    {\"Name\": \"LSR College\", \"Location\": \"Delhi\",\"Contact_Number\":011 2643 4459, \"Website\": \"https://lsr.edu.in/\"},\n",
        "    {\"Name\": \"NIFT\", \"Location\": \"Various cities across India\",\"Contact_Number\":91-11-26535890,\"Website\": \"https://www.nift.ac.in/\"},\n",
        "    {\"Name\": \"TISS\", \"Location\": \"Mumbai, Maharashtra\",\"Contact_Number\":91-22-25525050, \"Website\": \"https://www.tiss.edu/\"},\n",
        "    {\"Name\": \"ISI\", \"Location\": \"Kolkata, West Bengal\",\"Contact_Number\":033 2575 2500, \"Website\": \"https://www.isical.ac.in/\"},\n",
        "    {\"Name\": \"NLSIU\", \"Location\": \"Bangalore, Karnataka\",\"Contact_Number\":080-23213160,\"Website\": \"https://www.nls.ac.in/\"},\n",
        "    {\"Name\": \"IISc Bangalore\", \"Location\": \"Bangalore, Karnataka\",\"Contact_Number\": +91-80-22932444,\"Website\": \"https://www.iisc.ac.in/\"},\n",
        "    {\"Name\": \"St. Xavier's College, Kolkata\", \"Location\": \"Kolkata, West Bengal\",\"Contact_Number\": 033-2255-1101, \"Website\": \"https://www.sxccal.edu/\"},\n",
        "    {\"Name\": \"Miranda House\", \"Location\": \"Delhi\",\"Contact_Number\":+91-11-49115500, \"Website\": \"https://www.mirandahouse.ac.in/\"},\n",
        "    {\"Name\": \"ISB\", \"Location\": \"Hyderabad, Telangana\",\"Contact_Number\":040 2300 7000,\"Website\": \"https://www.isb.edu/\"},\n",
        "    {\"Name\": \"RKMVERI\", \"Location\": \"Belur, West Bengal\",\"Contact_Number\":033-2654-9999,\"Website\": \"https://rkmvu.ac.in/\"},\n",
        "    {\"Name\": \"St. Xavier's College, Mumbai\",\"Contact_Number\":022-2262-0662, \"Location\": \"Mumbai, Maharashtra\", \"Website\": \"https://xaviers.edu/main/\"},\n",
        "    {\"Name\": \"IIT Delhi\", \"Location\": \"Delhi\",\"Contact_Number\":011-2659-7135, \"Website\": \"https://home.iitd.ac.in/\"},\n",
        "]\n",
        "df = pd.DataFrame(data)\n",
        "\n",
        "# writer = pd.ExcelWriter('TopJuniorColleges.xlsx')\n",
        "# df.to_excel(writer, sheet_name='Sheet1', index=False)\n",
        "# writer.save()\n",
        "\n",
        "# Display the DataFrame or save it to an Excel file\n",
        "top_colleges_df = df.head(50)  # Select the top 50 colleges\n",
        "\n",
        "# Save to Excel file without using the save method\n",
        "top_colleges_df.to_excel('top_junior_colleges_in_india.xlsx', index=False)\n",
        "\n",
        "print(\"Excel file saved successfully.\")\n"
      ],
      "metadata": {
        "colab": {
          "base_uri": "https://localhost:8080/"
        },
        "id": "DvmkKiT2aoyq",
        "outputId": "f5f57d2d-55bd-428e-af09-aca369b58a83"
      },
      "execution_count": 9,
      "outputs": [
        {
          "output_type": "stream",
          "name": "stdout",
          "text": [
            "Excel file saved successfully.\n"
          ]
        }
      ]
    },
    {
      "cell_type": "code",
      "source": [],
      "metadata": {
        "id": "e6jNBneCaon9"
      },
      "execution_count": null,
      "outputs": []
    },
    {
      "cell_type": "code",
      "source": [],
      "metadata": {
        "id": "M4mRpXDMaojz"
      },
      "execution_count": null,
      "outputs": []
    },
    {
      "cell_type": "code",
      "source": [],
      "metadata": {
        "id": "BhNlLHQsaoZl"
      },
      "execution_count": null,
      "outputs": []
    }
  ]
}